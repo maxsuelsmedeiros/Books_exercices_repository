{
 "cells": [
  {
   "cell_type": "code",
   "execution_count": 5,
   "metadata": {},
   "outputs": [],
   "source": [
    "###The function returns True if the list of letters passed are all present in the word\n",
    "bag_of_words=open(\"/home/maxsuel/Documentos/pensePython/exemplos/words.txt\")\n",
    "bag=bag_of_words.readlines()\n",
    "new_bag=[]\n",
    "for word in bag:\n",
    "    new_bag.append(word.rstrip('\\n'))\n",
    "def uses_all(word,must_use):\n",
    "    for l in must_use:\n",
    "        if word.find(l)==-1:\n",
    "            return False\n",
    "    return True"
   ]
  },
  {
   "cell_type": "code",
   "execution_count": 6,
   "metadata": {},
   "outputs": [
    {
     "name": "stdout",
     "output_type": "stream",
     "text": [
      "['aboideau', 'aboideaus', 'aboideaux', 'aboiteau', 'aboiteaus', 'aboiteaux', 'abstemious', 'abstemiously', 'accentuation', 'accentuations', 'accountabilities', 'accountancies', 'accoutering', 'adulteration', 'adulterations', 'adventitious', 'adventitiously', 'adventitiousness', 'adventitiousnesses', 'aerobium', 'aeronautic', 'aeronautical', 'aeronautically', 'aeronautics', 'agouties', 'ambidextrous', 'ambidextrously', 'antibourgeois', 'anticonsumer', 'antievolution', 'antievolutionary', 'antihomosexual', 'antireligious', 'antirevolutionary', 'antisubversion', 'antituberculosis', 'antiunemployment', 'armouries', 'arsenious', 'assiduousness', 'assiduousnesses', 'atrociousness', 'atrociousnesses', 'attenuation', 'attenuations', 'auctioned', 'auctioneer', 'auctioneers', 'auditioned', 'auditories', 'augmentation', 'augmentations', 'aureoling', 'authentication', 'authentications', 'authoritative', 'authoritatively', 'authorities', 'authorize', 'authorized', 'authorizes', 'autobiographer', 'autobiographers', 'autobiographies', 'autocracies', 'autogamies', 'autogenies', 'automobile', 'automobiles', 'automotive', 'autonomies', 'autopsied', 'autopsies', 'autotomies', 'autotypies', 'avoidupoises', 'beautification', 'beautifications', 'belabouring', 'bivouacked', 'boundaries', 'buoyancies', 'businesswoman', 'calamitousness', 'calamitousnesses', 'carnivorousness', 'carnivorousnesses', 'cauliflower', 'cauliflowers', 'cauterization', 'cauterizations', 'cautioned', 'cautiousness', 'cautiousnesses', 'chemotherapeutic', 'chemotherapeutical', 'chivalrousness', 'chivalrousnesses', 'coeducation', 'coeducational', 'coeducations', 'coequating', 'communicable', 'communicate', 'communicated', 'communicates', 'communicative', 'conceptualize', 'conceptualized', 'conceptualizes', 'conceptualizing', 'consequential', 'constabularies', 'continuance', 'continuances', 'contumacies', 'copulative', 'copulatives', 'countenancing', 'counteraccusation', 'counteraccusations', 'counteracting', 'counteraggression', 'counteraggressions', 'counterarguing', 'counterattacking', 'counterbalancing', 'countercampaign', 'countercampaigns', 'counterclaim', 'counterclaims', 'countercomplaint', 'countercomplaints', 'counterdemonstration', 'counterdemonstrations', 'counterguerrila', 'counterinflationary', 'countermanding', 'counterpropagation', 'counterpropagations', 'counterraid', 'counterraids', 'counterrallies', 'counterretaliation', 'counterretaliations', 'counterstrategies', 'demagogueries', 'denunciation', 'denunciations', 'deputation', 'deputations', 'desquamation', 'desquamations', 'devaluation', 'devaluations', 'dialogue', 'dialogued', 'dialogues', 'disadvantageous', 'discontinuance', 'discontinuances', 'discourage', 'discouraged', 'discouragement', 'discouragements', 'discourages', 'documentaries', 'documentation', 'documentations', 'edacious', 'education', 'educational', 'educations', 'efficacious', 'ejaculation', 'ejaculations', 'elucidation', 'elucidations', 'emasculatation', 'emasculatations', 'emulation', 'emulations', 'emulsification', 'emulsifications', 'enamouring', 'encouraging', 'enumeration', 'enumerations', 'enunciation', 'enunciations', 'equation', 'equations', 'equatorial', 'equivocal', 'equivocate', 'equivocated', 'equivocates', 'equivocating', 'equivocation', 'equivocations', 'eulogia', 'eulogiae', 'eulogias', 'euphoria', 'euphorias', 'evacuation', 'evacuations', 'evaluation', 'evaluations', 'evolutionary', 'excommunicate', 'excommunicated', 'excommunicates', 'excommunicating', 'excommunication', 'excommunications', 'exhaustion', 'exhaustions', 'exhumation', 'exhumations', 'expurgation', 'expurgations', 'extenuation', 'extenuations', 'extracommunity', 'extraconstitutional', 'exudation', 'exudations', 'facetious', 'facetiously', 'fastiduousness', 'fastiduousnesses', 'filamentous', 'fluoridate', 'fluoridated', 'fluoridates', 'fountained', 'fumatories', 'functionaries', 'gelatinous', 'genitourinary', 'graciousness', 'graciousnesses', 'gregarious', 'gregariously', 'gregariousness', 'gregariousnesses', 'gubernatorial', 'hallucinogen', 'hallucinogenic', 'hallucinogens', 'harmoniousness', 'harmoniousnesses', 'hippopotamuses', 'housecleaning', 'housecleanings', 'housemaid', 'housemaids', 'housewarming', 'housewarmings', 'hyperanxious', 'hypercautious', 'hyperfastidious', 'ignoramuses', 'importunate', 'incommensurate', 'incommunicable', 'inconsequential', 'inconsequentially', 'inconsumable', 'inoculate', 'inoculated', 'inoculates', 'insecuration', 'insecurations', 'insouciance', 'insouciances', 'instantaneous', 'instantaneously', 'institutionalize', 'instrumentation', 'instrumentations', 'insubordinate', 'insupportable', 'insurmounable', 'intercommunal', 'interinstitutional', 'intermolecular', 'intermountain', 'interpopulation', 'intravenous', 'intravenously', 'jalousie', 'jalousies', 'jealousies', 'lasciviousness', 'lasciviousnesses', 'leukopenia', 'liquefaction', 'liquefactions', 'loquacities', 'magnanimousness', 'magnanimousnesses', 'malfunctioned', 'malnourished', 'mendacious', 'mendaciously', 'menstruation', 'menstruations', 'miaoued', 'microminiature', 'microminiatures', 'microminiaturized', 'miscellaneous', 'miscellaneously', 'miscellaneousness', 'miscellaneousnesses', 'modularities', 'modularized', 'mortuaries', 'mountaineer', 'mountaineered', 'mountaineering', 'mountaineers', 'multidenominational', 'multidimensional', 'multidirectional', 'multimillionaire', 'multimodalities', 'nefarious', 'nefariouses', 'nefariously', 'neurological', 'neurologically', 'neuropathies', 'neurotically', 'neutralization', 'neutralizations', 'nitrosurea', 'noncommunicable', 'noncumulative', 'noneducational', 'nonindustrialized', 'nonintellectual', 'obduracies', 'obituaries', 'occupancies', 'ossuaries', 'ostentatious', 'ostentatiously', 'outbeaming', 'outbleating', 'outcapering', 'outcaviled', 'outcavilled', 'outcheating', 'outdistance', 'outdistanced', 'outdistances', 'outdreaming', 'outeating', 'outfeasting', 'outgained', 'outhearing', 'outlawries', 'outleaping', 'outlearning', 'outpainted', 'outpatient', 'outpatients', 'outraise', 'outraised', 'outraises', 'outreaching', 'outreading', 'outrivaled', 'outrivalled', 'outsailed', 'outspeaking', 'outswearing', 'outwaited', 'outwearied', 'outwearies', 'outwearing', 'outwearying', 'overambitious', 'overanxious', 'overarousing', 'overcautious', 'overeducating', 'overenthusiastic', 'overexhausting', 'overfatigue', 'overfatigued', 'overfatigues', 'overfatiguing', 'overhauling', 'overparticular', 'overqualified', 'overregulating', 'overregulation', 'overregulations', 'oversaturating', 'overstimulate', 'overstimulated', 'overstimulates', 'overstimulating', 'overvaluing', 'pandemonium', 'pandemoniums', 'pasteurization', 'pasteurizations', 'peculatation', 'peculatations', 'perambulation', 'perambulations', 'perpetuation', 'perpetuations', 'perspicacious', 'persuasion', 'persuasions', 'pertinacious', 'perturbation', 'perturbations', 'plutocracies', 'pneumonia', 'popularities', 'popularize', 'popularized', 'popularizes', 'portraiture', 'portraitures', 'postrevolutionary', 'preauthorize', 'preauthorized', 'preauthorizes', 'preauthorizing', 'precarious', 'precariously', 'precariousness', 'precariousnesses', 'precaution', 'precautionary', 'precautions', 'preimmunization', 'preimmunizations', 'preinoculate', 'preinoculated', 'preinoculates', 'preinoculating', 'preinoculation', 'preoccupation', 'preoccupations', 'prepublication', 'prerevolutionary', 'pressurization', 'pressurizations', 'proteinuria', 'purgatories', 'putrefaction', 'putrefactions', 'questionable', 'questionnaire', 'questionnaires', 'questionniare', 'questionniares', 'radionuclide', 'radionuclides', 'rapaciousness', 'rapaciousnesses', 'rearousing', 'recapitulation', 'recapitulations', 'recirculation', 'recirculations', 'recuperation', 'recuperations', 'reevaluation', 'reevaluations', 'reformulating', 'refutation', 'refutations', 'regulation', 'regulations', 'regurgitation', 'regurgitations', 'reinoculate', 'reinoculated', 'reinoculates', 'reinoculating', 'rejuvenation', 'rejuvenations', 'remuneration', 'remunerations', 'renunciation', 'renunciations', 'repopulating', 'repudiation', 'repudiations', 'repudiator', 'repudiators', 'reputation', 'reputations', 'resuscitation', 'resuscitations', 'resuscitator', 'resuscitators', 'revolutionaries', 'revolutionary', 'sacrilegious', 'sacrilegiously', 'sautoire', 'sautoires', 'savourier', 'savouries', 'savouriest', 'scabiouses', 'sequoia', 'sequoias', 'simultaneous', 'simultaneously', 'simultaneousness', 'simultaneousnesses', 'somersaulting', 'spaciousness', 'spaciousnesses', 'speculation', 'speculations', 'stupefaction', 'stupefactions', 'subatmospheric', 'subcategories', 'subequatorial', 'suboceanic', 'subordinate', 'subordinated', 'subordinates', 'subpoenaing', 'sudatories', 'superambitious', 'superpatriot', 'superpatriotic', 'superpatriotism', 'superpatriotisms', 'superpatriots', 'tambourine', 'tambourines', 'tenacious', 'tenaciously', 'thiourea', 'thioureas', 'ulceration', 'ulcerations', 'ultraviolet', 'unaccompanied', 'unauthorized', 'unavoidable', 'uncomplimentary', 'unconscionable', 'unconventional', 'unconventionally', 'uncooperative', 'uncoordinated', 'undemocratic', 'undomesticated', 'unemotional', 'unequivocal', 'unequivocally', 'unforgivable', 'unidirectional', 'unintentional', 'unintentionally', 'unmotivated', 'unnojectionable', 'unnoticeable', 'unobtainable', 'unorganized', 'unpopularities', 'unprofessional', 'unprofitable', 'unquestionable', 'unquestionably', 'unreasoning', 'unsophisticated', 'veracious', 'vexatious', 'vicariousness', 'vicariousnesses', 'villianousness', 'villianousnesses', 'vituperation', 'vituperations', 'vivaciousness', 'vivaciousnesses', 'vocabularies', 'voraciousness', 'voraciousnesses', 'warehousing']\n"
     ]
    }
   ],
   "source": [
    "must_use_letters=\"aeiouy\"\n",
    "must_use_all=[]\n",
    "for word in new_bag:\n",
    "    if uses_all(word,must_use_letters) is True:\n",
    "        must_use_all.append(word)\n",
    "print(must_use_all)"
   ]
  },
  {
   "cell_type": "code",
   "execution_count": null,
   "metadata": {},
   "outputs": [],
   "source": []
  }
 ],
 "metadata": {
  "kernelspec": {
   "display_name": "Python 3",
   "language": "python",
   "name": "python3"
  },
  "language_info": {
   "codemirror_mode": {
    "name": "ipython",
    "version": 3
   },
   "file_extension": ".py",
   "mimetype": "text/x-python",
   "name": "python",
   "nbconvert_exporter": "python",
   "pygments_lexer": "ipython3",
   "version": "3.8.10"
  },
  "toc": {
   "base_numbering": 1,
   "nav_menu": {},
   "number_sections": true,
   "sideBar": true,
   "skip_h1_title": false,
   "title_cell": "Table of Contents",
   "title_sidebar": "Contents",
   "toc_cell": false,
   "toc_position": {},
   "toc_section_display": true,
   "toc_window_display": false
  }
 },
 "nbformat": 4,
 "nbformat_minor": 4
}
