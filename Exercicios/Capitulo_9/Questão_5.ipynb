{
 "cells": [
  {
   "cell_type": "code",
   "execution_count": 7,
   "metadata": {},
   "outputs": [],
   "source": [
    "###The function returns True if the list of letters passed are all present in the word\n",
    "bag_of_words=open(\"/home/maxsuel/Documentos/pensePython/exemplos/words.txt\")\n",
    "bag=bag_of_words.readlines()\n",
    "new_bag=[]\n",
    "for word in bag:\n",
    "    new_bag.append(word.rstrip('\\n'))\n",
    "def uses_all(word,must_use):\n",
    "    for l in must_use:\n",
    "        if word.find(l)==-1:\n",
    "            return False\n",
    "    return True"
   ]
  },
  {
   "cell_type": "code",
   "execution_count": 8,
   "metadata": {},
   "outputs": [
    {
     "name": "stdout",
     "output_type": "stream",
     "text": [
      "['abstemiously', 'adventitiously', 'aeronautically', 'ambidextrously', 'antievolutionary', 'antirevolutionary', 'antiunemployment', 'authoritatively', 'autotypies', 'buoyancies', 'counterinflationary', 'evolutionary', 'extracommunity', 'facetiously', 'genitourinary', 'gregariously', 'hyperanxious', 'hypercautious', 'hyperfastidious', 'inconsequentially', 'instantaneously', 'intravenously', 'mendaciously', 'miscellaneously', 'nefariously', 'neurologically', 'neurotically', 'ostentatiously', 'outwearying', 'postrevolutionary', 'precariously', 'precautionary', 'prerevolutionary', 'revolutionary', 'sacrilegiously', 'simultaneously', 'tenaciously', 'uncomplimentary', 'unconventionally', 'unequivocally', 'unintentionally', 'unquestionably']\n"
     ]
    }
   ],
   "source": [
    "must_use_letters=\"aeiouy\"\n",
    "must_use_all=[]\n",
    "for word in new_bag:\n",
    "    if uses_all(word,must_use_letters) is True:\n",
    "        must_use_all.append(word)\n",
    "print(must_use_all)"
   ]
  },
  {
   "cell_type": "code",
   "execution_count": null,
   "metadata": {},
   "outputs": [],
   "source": []
  }
 ],
 "metadata": {
  "kernelspec": {
   "display_name": "Python 3",
   "language": "python",
   "name": "python3"
  },
  "language_info": {
   "codemirror_mode": {
    "name": "ipython",
    "version": 3
   },
   "file_extension": ".py",
   "mimetype": "text/x-python",
   "name": "python",
   "nbconvert_exporter": "python",
   "pygments_lexer": "ipython3",
   "version": "3.8.10"
  },
  "toc": {
   "base_numbering": 1,
   "nav_menu": {},
   "number_sections": true,
   "sideBar": true,
   "skip_h1_title": false,
   "title_cell": "Table of Contents",
   "title_sidebar": "Contents",
   "toc_cell": false,
   "toc_position": {},
   "toc_section_display": true,
   "toc_window_display": false
  }
 },
 "nbformat": 4,
 "nbformat_minor": 4
}
