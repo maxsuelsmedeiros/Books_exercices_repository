{
 "cells": [
  {
   "cell_type": "code",
   "execution_count": null,
   "metadata": {},
   "outputs": [],
   "source": [
    "f = open('teste.txt','r')\n",
    "linhas=f.readlines()\n",
    "lista=[]"
   ]
  },
  {
   "cell_type": "code",
   "execution_count": null,
   "metadata": {},
   "outputs": [],
   "source": [
    "def cpf(numero):\n",
    "    numero=str(numero)\n",
    "    n1=numero.split(\"\\n\")\n",
    "    if len(n1[0]) == 10:\n",
    "        print(len(n1[0]))\n",
    "        n1[0] = \"0\"+n1[0]\n",
    "    if len(n1[0]) == 9:\n",
    "        print(len(n1[0]))\n",
    "        n1[0] = \"00\"+n1[0]\n",
    "    if len(n1[0]) == 8:\n",
    "        print(len(n1[0]))\n",
    "        n1[0] = \"000\"+n1[0]\n",
    "    return n1[0]"
   ]
  },
  {
   "cell_type": "code",
   "execution_count": null,
   "metadata": {
    "scrolled": true
   },
   "outputs": [],
   "source": [
    "x=0\n",
    "for line in linhas:\n",
    "    lista.append(cpf(line)+'\\n')\n",
    "    print(lista[x])\n",
    "    x+=1\n",
    "   \n",
    "print(lista)\n",
    "\n",
    "g = open('teste2.txt','w')\n",
    "g.writelines(lista)\n",
    "g.close()\n",
    "'''\n",
    "lista2=[]\n",
    "\n",
    "for n in lista:\n",
    "    n1=n.split(\"\\n\")\n",
    "    lista2.append(n1[0])\n",
    "print(lista2)\n",
    "'''\n"
   ]
  }
 ],
 "metadata": {
  "kernelspec": {
   "display_name": "Python 3",
   "language": "python",
   "name": "python3"
  },
  "language_info": {
   "codemirror_mode": {
    "name": "ipython",
    "version": 3
   },
   "file_extension": ".py",
   "mimetype": "text/x-python",
   "name": "python",
   "nbconvert_exporter": "python",
   "pygments_lexer": "ipython3",
   "version": "3.8.5"
  },
  "toc": {
   "base_numbering": 1,
   "nav_menu": {},
   "number_sections": true,
   "sideBar": true,
   "skip_h1_title": false,
   "title_cell": "Table of Contents",
   "title_sidebar": "Contents",
   "toc_cell": false,
   "toc_position": {},
   "toc_section_display": true,
   "toc_window_display": false
  }
 },
 "nbformat": 4,
 "nbformat_minor": 2
}
