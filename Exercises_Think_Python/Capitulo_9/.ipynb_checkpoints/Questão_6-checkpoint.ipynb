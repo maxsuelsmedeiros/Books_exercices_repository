{
 "cells": [
  {
   "cell_type": "code",
   "execution_count": null,
   "metadata": {},
   "outputs": [],
   "source": [
    "bag_of_words=open(\"/home/maxsuel/Documentos/pensePython/exemplos/words.txt\")\n",
    "bag=bag_of_words.readlines()\n",
    "new_bag=[]\n",
    "for word in bag:\n",
    "    new_bag.append(word.rstrip('\\n'))"
   ]
  },
  {
   "cell_type": "code",
   "execution_count": null,
   "metadata": {},
   "outputs": [],
   "source": [
    "###Function returns True if the words are in alfabetic order\n",
    "def is_abecedarian(word):\n",
    "    list_word=[]\n",
    "    test_sort=[]\n",
    "    for l in word:\n",
    "        list_word.append(l)\n",
    "    test_sort=sorted(list_word)\n",
    "    if list_word != test_sort:\n",
    "        return False\n",
    "    else:\n",
    "        return True"
   ]
  },
  {
   "cell_type": "code",
   "execution_count": null,
   "metadata": {},
   "outputs": [],
   "source": [
    "alfabetic_words_list=[]\n",
    "for word in new_bag:\n",
    "    if is_abecedarian(word) is True:\n",
    "        alfabetic_words_list.append(word)\n",
    "print(alfabetic_words_list)"
   ]
  }
 ],
 "metadata": {
  "kernelspec": {
   "display_name": "Python 3",
   "language": "python",
   "name": "python3"
  },
  "language_info": {
   "codemirror_mode": {
    "name": "ipython",
    "version": 3
   },
   "file_extension": ".py",
   "mimetype": "text/x-python",
   "name": "python",
   "nbconvert_exporter": "python",
   "pygments_lexer": "ipython3",
   "version": "3.8.10"
  },
  "toc": {
   "base_numbering": 1,
   "nav_menu": {},
   "number_sections": true,
   "sideBar": true,
   "skip_h1_title": false,
   "title_cell": "Table of Contents",
   "title_sidebar": "Contents",
   "toc_cell": false,
   "toc_position": {},
   "toc_section_display": true,
   "toc_window_display": false
  }
 },
 "nbformat": 4,
 "nbformat_minor": 4
}
