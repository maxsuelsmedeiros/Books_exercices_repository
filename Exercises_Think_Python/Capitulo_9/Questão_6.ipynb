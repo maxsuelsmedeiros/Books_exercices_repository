{
 "cells": [
  {
   "cell_type": "code",
   "execution_count": 1,
   "metadata": {},
   "outputs": [],
   "source": [
    "bag_of_words=open(\"/home/maxsuel/Documentos/pensePython/exemplos/words.txt\")\n",
    "bag=bag_of_words.readlines()\n",
    "new_bag=[]\n",
    "for word in bag:\n",
    "    new_bag.append(word.rstrip('\\n'))"
   ]
  },
  {
   "cell_type": "code",
   "execution_count": 2,
   "metadata": {},
   "outputs": [],
   "source": [
    "###Function returns True if the words are in alfabetic order\n",
    "def is_abecedarian(word):\n",
    "    list_word=[]\n",
    "    test_sort=[]\n",
    "    for l in word:\n",
    "        list_word.append(l)\n",
    "    test_sort=sorted(list_word)\n",
    "    if list_word != test_sort:\n",
    "        return False\n",
    "    else:\n",
    "        return True"
   ]
  },
  {
   "cell_type": "code",
   "execution_count": 3,
   "metadata": {},
   "outputs": [
    {
     "name": "stdout",
     "output_type": "stream",
     "text": [
      "['aa', 'aah', 'aahs', 'aal', 'aals', 'aas', 'abbe', 'abbes', 'abbess', 'abbey', 'abbot', 'abet', 'abhor', 'abhors', 'ably', 'abo', 'abort', 'abos', 'abuzz', 'aby', 'accent', 'accept', 'access', 'accost', 'ace', 'acers', 'aces', 'achoo', 'achy', 'act', 'ad', 'add', 'adder', 'adders', 'adds', 'adeem', 'adeems', 'adept', 'adios', 'adit', 'ado', 'adopt', 'ados', 'ads', 'adz', 'ae', 'aegis', 'aery', 'aff', 'affix', 'afflux', 'afoot', 'aft', 'agin', 'agio', 'agios', 'agist', 'aglow', 'agly', 'ago', 'ah', 'ahoy', 'ai', 'ail', 'ails', 'aim', 'aims', 'ain', 'ains', 'air', 'airs', 'airt', 'airy', 'ais', 'ait', 'all', 'allot', 'allow', 'alloy', 'alls', 'ally', 'almost', 'alms', 'alow', 'alp', 'alps', 'alt', 'am', 'ammo', 'ammos', 'amort', 'amp', 'amps', 'amu', 'an', 'annoy', 'ant', 'any', 'apt', 'ar', 'ars', 'art', 'arty', 'as', 'ass', 'at', 'aw', 'ay', 'be', 'bee', 'beef', 'beefily', 'beefs', 'beefy', 'been', 'beep', 'beeps', 'beer', 'beers', 'beery', 'bees', 'beet', 'befit', 'beg', 'begin', 'begins', 'begirt', 'begot', 'begs', 'beknot', 'bel', 'bell', 'bellow', 'bells', 'belly', 'below', 'bels', 'belt', 'ben', 'benny', 'bens', 'bent', 'berry', 'best', 'bet', 'bevy', 'bey', 'bhoot', 'bi', 'bijou', 'bijoux', 'bill', 'billow', 'billowy', 'bills', 'billy', 'bin', 'bins', 'bint', 'bio', 'biopsy', 'bios', 'birr', 'birrs', 'bis', 'bit', 'bitt', 'bitty', 'bloop', 'bloops', 'blot', 'blotty', 'blow', 'blowy', 'bo', 'boo', 'boor', 'boors', 'boos', 'boost', 'boot', 'booty', 'bop', 'bops', 'bort', 'borty', 'bortz', 'bos', 'boss', 'bossy', 'bot', 'bott', 'bow', 'box', 'boxy', 'boy', 'buy', 'buzz', 'by', 'cee', 'cees', 'ceil', 'ceils', 'cell', 'cello', 'cellos', 'cells', 'celt', 'cent', 'cess', 'chi', 'chill', 'chills', 'chilly', 'chimp', 'chimps', 'chin', 'chino', 'chinos', 'chins', 'chintz', 'chip', 'chippy', 'chips', 'chirr', 'chirrs', 'chis', 'chit', 'chitty', 'chivvy', 'chivy', 'choosy', 'chop', 'choppy', 'chops', 'chott', 'chow', 'cist', 'city', 'civvy', 'cloot', 'clop', 'clops', 'clot', 'clotty', 'cloy', 'coo', 'coop', 'coops', 'coopt', 'coos', 'coot', 'cop', 'cops', 'copy', 'cos', 'coss', 'cost', 'cosy', 'cot', 'cow', 'cowy', 'cox', 'coy', 'coz', 'crux', 'cry', 'de', 'dee', 'deem', 'deems', 'deep', 'deeps', 'deer', 'deers', 'dees', 'defi', 'defis', 'deft', 'defy', 'dehort', 'dei', 'deil', 'deils', 'deist', 'deity', 'del', 'dell', 'dells', 'delly', 'dels', 'demo', 'demos', 'demy', 'den', 'dens', 'dent', 'deny', 'derry', 'des', 'dev', 'dew', 'dewy', 'dex', 'dey', 'dhow', 'dill', 'dills', 'dilly', 'dim', 'dims', 'din', 'dins', 'dint', 'dip', 'dippy', 'dips', 'dipt', 'dirt', 'dirty', 'dit', 'ditty', 'divvy', 'do', 'door', 'doors', 'dopy', 'dor', 'dorr', 'dorrs', 'dors', 'dorty', 'dory', 'dos', 'doss', 'dost', 'dot', 'dotty', 'doty', 'dow', 'doxy', 'dry', 'eel', 'eels', 'eely', 'eery', 'ef', 'eff', 'efflux', 'effort', 'effs', 'efs', 'eft', 'egg', 'eggs', 'egis', 'ego', 'egos', 'eh', 'el', 'ell', 'ells', 'elm', 'elms', 'elmy', 'els', 'em', 'empty', 'ems', 'emu', 'en', 'enow', 'ens', 'envy', 'er', 'err', 'errs', 'ers', 'erst', 'es', 'ess', 'et', 'ex', 'fil', 'fill', 'fills', 'filly', 'film', 'films', 'filmy', 'fils', 'fin', 'finny', 'fins', 'fir', 'firry', 'firs', 'first', 'fist', 'fisty', 'fit', 'fix', 'fiz', 'fizz', 'floor', 'floors', 'floosy', 'flop', 'floppy', 'flops', 'floss', 'flossy', 'flow', 'flu', 'flux', 'fly', 'foot', 'footy', 'fop', 'fops', 'for', 'fort', 'forty', 'foss', 'fou', 'fox', 'foxy', 'foy', 'fry', 'fuzz', 'ghi', 'ghis', 'ghost', 'ghosty', 'gill', 'gills', 'gilly', 'gilt', 'gimp', 'gimps', 'gimpy', 'gin', 'ginny', 'gins', 'gip', 'gips', 'gipsy', 'girt', 'gist', 'git', 'glop', 'glops', 'glory', 'gloss', 'glossy', 'glost', 'glow', 'gnu', 'go', 'goo', 'goop', 'goops', 'goos', 'goosy', 'gor', 'gorsy', 'gory', 'got', 'gox', 'goy', 'guy', 'hi', 'hill', 'hillo', 'hillos', 'hills', 'hilly', 'hilt', 'him', 'hin', 'hinny', 'hins', 'hint', 'hip', 'hippy', 'hips', 'his', 'hiss', 'hist', 'hit', 'ho', 'hoop', 'hoops', 'hoot', 'hooty', 'hop', 'hops', 'horst', 'horsy', 'host', 'hot', 'how', 'hoy', 'ill', 'ills', 'illy', 'immy', 'imp', 'imps', 'in', 'inn', 'inns', 'ins', 'is', 'it', 'ivy', 'jo', 'joss', 'jot', 'jotty', 'jow', 'joy', 'knop', 'knops', 'knot', 'knotty', 'know', 'kop', 'kops', 'kor', 'kors', 'kos', 'koss', 'lo', 'loo', 'loop', 'loops', 'loopy', 'loos', 'loot', 'lop', 'loppy', 'lops', 'lorry', 'lory', 'loss', 'lossy', 'lost', 'lot', 'low', 'lox', 'lux', 'moo', 'moor', 'moors', 'moory', 'moos', 'moot', 'mop', 'mops', 'mor', 'mors', 'mort', 'moss', 'mossy', 'most', 'mot', 'mott', 'mow', 'mu', 'my', 'no', 'noo', 'nor', 'nos', 'nosy', 'not', 'now', 'nu', 'oops', 'oot', 'op', 'ops', 'opt', 'or', 'ors', 'ort', 'os', 'ow', 'ox', 'oxy', 'oy', 'pry', 'psst', 'sty', 'tux']\n"
     ]
    }
   ],
   "source": [
    "alfabetic_words_list=[]\n",
    "for word in new_bag:\n",
    "    if is_abecedarian(word) is True:\n",
    "        alfabetic_words_list.append(word)\n",
    "print(alfabetic_words_list)"
   ]
  },
  {
   "cell_type": "code",
   "execution_count": null,
   "metadata": {},
   "outputs": [],
   "source": []
  }
 ],
 "metadata": {
  "kernelspec": {
   "display_name": "Python 3",
   "language": "python",
   "name": "python3"
  },
  "language_info": {
   "codemirror_mode": {
    "name": "ipython",
    "version": 3
   },
   "file_extension": ".py",
   "mimetype": "text/x-python",
   "name": "python",
   "nbconvert_exporter": "python",
   "pygments_lexer": "ipython3",
   "version": "3.8.10"
  },
  "toc": {
   "base_numbering": 1,
   "nav_menu": {},
   "number_sections": true,
   "sideBar": true,
   "skip_h1_title": false,
   "title_cell": "Table of Contents",
   "title_sidebar": "Contents",
   "toc_cell": false,
   "toc_position": {},
   "toc_section_display": true,
   "toc_window_display": false
  }
 },
 "nbformat": 4,
 "nbformat_minor": 4
}
