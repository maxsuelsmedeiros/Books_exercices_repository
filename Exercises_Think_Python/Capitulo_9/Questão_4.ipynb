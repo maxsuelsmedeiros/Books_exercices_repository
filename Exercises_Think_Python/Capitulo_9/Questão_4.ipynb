{
 "cells": [
  {
   "cell_type": "code",
   "execution_count": 102,
   "metadata": {},
   "outputs": [],
   "source": [
    "###The function returns True the list of letters passed is used to form a word\n",
    "bag_of_words=open(\"/home/maxsuel/Documentos/pensePython/exemplos/words.txt\")\n",
    "bag=bag_of_words.readlines()\n",
    "def uses_only(word,letters_to_verify):\n",
    "\n",
    "    for l in word:\n",
    "        if l not in letters_to_verify:\n",
    "            return False\n",
    "        \n",
    "    return True\n"
   ]
  },
  {
   "cell_type": "code",
   "execution_count": 103,
   "metadata": {},
   "outputs": [
    {
     "name": "stdout",
     "output_type": "stream",
     "text": [
      "['aa', 'aah', 'aal', 'ace', 'ache', 'achoo', 'ae', 'aff', 'ah', 'aha', 'ahchoo', 'ala', 'alae', 'alcohol', 'ale', 'alec', 'alee', 'alef', 'alfa', 'alfalfa', 'all', 'allele', 'allheal', 'aloe', 'aloha', 'aloof', 'cacao', 'cache', 'caeca', 'caecal', 'cafe', 'caleche', 'calf', 'call', 'calla', 'ceca', 'cecal', 'cee', 'cell', 'cella', 'cellae', 'cello', 'chafe', 'chaff', 'chalah', 'chaleh', 'challah', 'chef', 'chela', 'chelae', 'cholla', 'clach', 'clef', 'cloaca', 'cloacae', 'cloacal', 'cloche', 'coach', 'coal', 'coala', 'coalhole', 'coca', 'coccal', 'cochlea', 'cochleae', 'coco', 'cocoa', 'coff', 'coffee', 'coffle', 'coho', 'col', 'cola', 'cole', 'coo', 'cooch', 'cooee', 'coof', 'cool', 'each', 'eche', 'echo', 'ecole', 'eel', 'ef', 'eff', 'efface', 'eh', 'el', 'elf', 'ell', 'fa', 'face', 'faecal', 'fall', 'fallal', 'falloff', 'feal', 'fecal', 'fee', 'feel', 'fell', 'fella', 'fellah', 'felloe', 'feoff', 'feoffee', 'flea', 'fleche', 'flee', 'fleece', 'fleech', 'floc', 'floe', 'foal', 'focal', 'foe', 'foh', 'fool', 'ha', 'haaf', 'hae', 'hah', 'halala', 'halalah', 'hale', 'half', 'hall', 'hallah', 'hallel', 'hallo', 'halloa', 'halloo', 'halo', 'haole', 'he', 'heal', 'heel', 'hell', 'hellhole', 'hello', 'ho', 'hoe', 'hole', 'holla', 'hollo', 'holloa', 'holloo', 'hooch', 'hoof', 'la', 'lac', 'lace', 'lall', 'lea', 'leach', 'leaf', 'leal', 'lech', 'lee', 'leech', 'lo', 'loach', 'loaf', 'loca', 'local', 'locale', 'loch', 'loco', 'locofoco', 'loll', 'loo', 'loof', 'loofa', 'loofah', 'oaf', 'oca', 'oe', 'of', 'off', 'offal', 'oh', 'oho', 'ole', 'olea', 'oleo', 'olla', 'ooh']\n"
     ]
    }
   ],
   "source": [
    "must_use=\"acefhlo\"\n",
    "words_only_used=[]\n",
    "for word in bag:\n",
    "    word=word.rstrip('\\n')\n",
    "    if uses_only(word,must_use) is True:\n",
    "        words_only_used.append(word)\n",
    "print(words_only_used)"
   ]
  },
  {
   "cell_type": "code",
   "execution_count": null,
   "metadata": {},
   "outputs": [],
   "source": []
  },
  {
   "cell_type": "code",
   "execution_count": null,
   "metadata": {},
   "outputs": [],
   "source": []
  }
 ],
 "metadata": {
  "kernelspec": {
   "display_name": "Python 3",
   "language": "python",
   "name": "python3"
  },
  "language_info": {
   "codemirror_mode": {
    "name": "ipython",
    "version": 3
   },
   "file_extension": ".py",
   "mimetype": "text/x-python",
   "name": "python",
   "nbconvert_exporter": "python",
   "pygments_lexer": "ipython3",
   "version": "3.8.10"
  },
  "toc": {
   "base_numbering": 1,
   "nav_menu": {},
   "number_sections": true,
   "sideBar": true,
   "skip_h1_title": false,
   "title_cell": "Table of Contents",
   "title_sidebar": "Contents",
   "toc_cell": false,
   "toc_position": {},
   "toc_section_display": true,
   "toc_window_display": false
  }
 },
 "nbformat": 4,
 "nbformat_minor": 4
}
