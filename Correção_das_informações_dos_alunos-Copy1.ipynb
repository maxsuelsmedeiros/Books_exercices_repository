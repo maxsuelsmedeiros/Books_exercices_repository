{
 "cells": [
  {
   "cell_type": "code",
   "execution_count": 1,
   "metadata": {},
   "outputs": [],
   "source": [
    "import pandas as pd\n",
    "import numpy as np\n"
   ]
  },
  {
   "cell_type": "code",
   "execution_count": 2,
   "metadata": {},
   "outputs": [],
   "source": [
    "curso = pd.read_csv('CEPORC_Consumo_Consciente_de_Energia.csv', delimiter=';',encoding=\"utf_16\", dtype={'Data_de_Nascimento': str,\n",
    "                                               'CPF':str,\n",
    "                                               'DT_NASC_Pai':str,\n",
    "                                               'DT_Nasc_Mae':str})\n",
    "curso.columns = ['Usuario','Nome_do_Aluno','Sexo','Data_de_Nascimento','Cidade_natal',\n",
    "                                   'UF_natal','Nacionalidade','Nome_do_pai',\n",
    "                                   'Nome_da_mae','Identidade','Orgao_ExPEdidor','Estado_Emissao','CPF',\n",
    "                                   'Tipo_Instituição','Endereço','Cidade','UF','CEP','Celular','Curso','Nota',\n",
    "                                   'Classificacao','DT_NASC_Pai','DT_Nasc_Mae','Cidade_Nasc_Pai','UF_NASC_Pai',\n",
    "                                   'Cidade_Nasc_mAE','UF_Nasc_mae','email','Curso_NOME','Data_Matricula',\n",
    "                                   'Data_Saida','UO']"
   ]
  },
  {
   "cell_type": "code",
   "execution_count": 3,
   "metadata": {
    "tags": [
     "Funções_para_manipulação"
    ]
   },
   "outputs": [],
   "source": [
    "def retirar_0(x):\n",
    "    y = str(x)\n",
    "    print(y)\n",
    "    y=y.split('.')\n",
    "    print(y)\n",
    "    z = y[0]\n",
    "    print(z)\n",
    "    return z\n",
    "\n",
    "def data_saida_correção(numero):\n",
    "    dt_Saida=str(numero)\n",
    "    if len(dt_Saida)<8:\n",
    "        i = 1\n",
    "        y = len(dt_Saida)-8\n",
    "        y = y*-1\n",
    "        if len(dt_Saida) == 3:\n",
    "            pass\n",
    "        else:\n",
    "            for i in range(y):\n",
    "                dt_Saida = \"0\"+dt_Saida\n",
    "    return dt_Saida\n",
    "\n",
    "def organizar_cpf(numero):\n",
    "    cpf=str(numero)\n",
    "    if len(cpf)<11:\n",
    "        i = 1\n",
    "        y = len(cpf)-11\n",
    "        y = y*-1\n",
    "        for i in range(y):\n",
    "            cpf = \"0\"+cpf\n",
    "    return cpf"
   ]
  },
  {
   "cell_type": "code",
   "execution_count": 4,
   "metadata": {
    "tags": [
     "Valores_para_correção"
    ]
   },
   "outputs": [],
   "source": [
    "cep = pd.Series(curso['CEP'])\n",
    "data_saida= pd.Series(curso['Data_Saida'])\n",
    "data_saida.fillna(inplace = True, method = 'ffill')\n",
    "data_nasc = pd.Series(curso['Data_de_Nascimento'])\n",
    "cpf= pd.Series(curso['CPF'])\n",
    "dt_nasc_pai=pd.Series(curso['DT_NASC_Pai'])\n",
    "dt_nasc_mae=pd.Series(curso['DT_Nasc_Mae'])"
   ]
  },
  {
   "cell_type": "code",
   "execution_count": 5,
   "metadata": {
    "scrolled": true,
    "tags": [
     "aplicações_de_correções"
    ]
   },
   "outputs": [
    {
     "name": "stdout",
     "output_type": "stream",
     "text": [
      "58073030.0\n",
      "['58073030', '0']\n",
      "58073030\n",
      "58200000.0\n",
      "['58200000', '0']\n",
      "58200000\n",
      "58070510.0\n",
      "['58070510', '0']\n",
      "58070510\n",
      "58026040.0\n",
      "['58026040', '0']\n",
      "58026040\n",
      "58053100.0\n",
      "['58053100', '0']\n",
      "58053100\n",
      "58080150.0\n",
      "['58080150', '0']\n",
      "58080150\n",
      "58020670.0\n",
      "['58020670', '0']\n",
      "58020670\n",
      "58052567.0\n",
      "['58052567', '0']\n",
      "58052567\n",
      "58309180.0\n",
      "['58309180', '0']\n",
      "58309180\n",
      "27032020.0\n",
      "['27032020', '0']\n",
      "27032020\n",
      "27032020.0\n",
      "['27032020', '0']\n",
      "27032020\n",
      "30032020.0\n",
      "['30032020', '0']\n",
      "30032020\n",
      "30032020.0\n",
      "['30032020', '0']\n",
      "30032020\n",
      "24032020.0\n",
      "['24032020', '0']\n",
      "24032020\n",
      "30032020.0\n",
      "['30032020', '0']\n",
      "30032020\n",
      "27032020.0\n",
      "['27032020', '0']\n",
      "27032020\n",
      "2032020.0\n",
      "['2032020', '0']\n",
      "2032020\n",
      "29032020.0\n",
      "['29032020', '0']\n",
      "29032020\n"
     ]
    }
   ],
   "source": [
    "#Funções de aplicações\n",
    "aplicar_correção = lambda x : retirar_0(x)\n",
    "aplicar_correção_saida = lambda x : data_saida_correção(x)\n",
    "aplicar_correção_cpf = lambda x : organizar_cpf(x)\n",
    "# Aplicações das correções dentro das séries\n",
    "novos_ceps= cep.apply(aplicar_correção)\n",
    "nova_saida=data_saida.apply(aplicar_correção)\n",
    "nova_saida_atual=nova_saida.apply(aplicar_correção_saida)\n",
    "nova_dt_nasc=data_nasc.apply(aplicar_correção_saida)\n",
    "nova_dt_nasc_pai=dt_nasc_pai.apply(aplicar_correção_saida)\n",
    "nova_dt_nasc_mae=dt_nasc_mae.apply(aplicar_correção_saida)\n",
    "novo_cpf = cpf.apply(aplicar_correção_cpf)"
   ]
  },
  {
   "cell_type": "code",
   "execution_count": 6,
   "metadata": {},
   "outputs": [
    {
     "data": {
      "text/plain": [
       "0    11111946\n",
       "1    25111983\n",
       "2    25021945\n",
       "3    13031968\n",
       "4    13051964\n",
       "5    20112019\n",
       "6    11111970\n",
       "7    04101934\n",
       "8    26121976\n",
       "Name: DT_NASC_Pai, dtype: object"
      ]
     },
     "execution_count": 6,
     "metadata": {},
     "output_type": "execute_result"
    }
   ],
   "source": []
  },
  {
   "cell_type": "code",
   "execution_count": 7,
   "metadata": {
    "tags": [
     "Aplicanado_dentro_do_Data_frame"
    ]
   },
   "outputs": [],
   "source": [
    "curso['CEP']=novos_ceps\n",
    "curso['Data_Saida']=nova_saida_atual\n",
    "curso['Data_de_Nascimento']=nova_dt_nasc\n",
    "curso['CPF']=novo_cpf\n",
    "curso['DT_NASC_Pai']=nova_dt_nasc_pai\n",
    "curso['DT_Nasc_Mae']=nova_dt_nasc_mae"
   ]
  },
  {
   "cell_type": "code",
   "execution_count": 8,
   "metadata": {},
   "outputs": [],
   "source": [
    "novo_arq_curso = pd.DataFrame(curso)\n",
    "novo_arq_curso.to_csv('curso_CC_5.csv',index=False,sep=';')"
   ]
  }
 ],
 "metadata": {
  "celltoolbar": "Tags",
  "kernelspec": {
   "display_name": "Python 3",
   "language": "python",
   "name": "python3"
  },
  "language_info": {
   "codemirror_mode": {
    "name": "ipython",
    "version": 3
   },
   "file_extension": ".py",
   "mimetype": "text/x-python",
   "name": "python",
   "nbconvert_exporter": "python",
   "pygments_lexer": "ipython3",
   "version": "3.8.5"
  },
  "toc": {
   "base_numbering": 1,
   "nav_menu": {},
   "number_sections": true,
   "sideBar": true,
   "skip_h1_title": false,
   "title_cell": "Table of Contents",
   "title_sidebar": "Contents",
   "toc_cell": false,
   "toc_position": {},
   "toc_section_display": true,
   "toc_window_display": false
  }
 },
 "nbformat": 4,
 "nbformat_minor": 2
}
